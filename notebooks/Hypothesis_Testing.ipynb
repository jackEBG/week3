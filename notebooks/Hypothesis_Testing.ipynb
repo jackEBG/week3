{
 "cells": [
  {
   "cell_type": "code",
   "execution_count": 1,
   "metadata": {},
   "outputs": [
    {
     "name": "stderr",
     "output_type": "stream",
     "text": [
      "C:\\Users\\Admin.DESKTOP-M4R2VLU\\AppData\\Local\\Temp\\ipykernel_808\\3178340618.py:5: DtypeWarning: Columns (32,37) have mixed types. Specify dtype option on import or set low_memory=False.\n",
      "  data = pd.read_csv(r'C:\\Users\\Admin.DESKTOP-M4R2VLU\\week3\\data\\MachineLearningRating_v3.csv')\n"
     ]
    },
    {
     "name": "stdout",
     "output_type": "stream",
     "text": [
      "ANOVA F-statistic: 116.16783588309706, p-value: 3.641118771802602e-51\n"
     ]
    }
   ],
   "source": [
    "import pandas as pd\n",
    "import scipy.stats as stats\n",
    "\n",
    "# Load the data\n",
    "data = pd.read_csv(r'C:\\Users\\Admin.DESKTOP-M4R2VLU\\week3\\data\\MachineLearningRating_v3.csv')\n",
    "\n"
   ]
  },
  {
   "cell_type": "code",
   "execution_count": 2,
   "metadata": {},
   "outputs": [
    {
     "name": "stderr",
     "output_type": "stream",
     "text": [
      "C:\\Users\\Admin.DESKTOP-M4R2VLU\\AppData\\Local\\Temp\\ipykernel_808\\1511396904.py:8: FutureWarning: A value is trying to be set on a copy of a DataFrame or Series through chained assignment using an inplace method.\n",
      "The behavior will change in pandas 3.0. This inplace method will never work because the intermediate object on which we are setting values always behaves as a copy.\n",
      "\n",
      "For example, when doing 'df[col].method(value, inplace=True)', try using 'df.method({col: value}, inplace=True)' or df[col] = df[col].method(value) instead, to perform the operation inplace on the original object.\n",
      "\n",
      "\n",
      "  data[col].fillna(data[col].mode()[0], inplace=True)\n",
      "C:\\Users\\Admin.DESKTOP-M4R2VLU\\AppData\\Local\\Temp\\ipykernel_808\\1511396904.py:13: FutureWarning: A value is trying to be set on a copy of a DataFrame or Series through chained assignment using an inplace method.\n",
      "The behavior will change in pandas 3.0. This inplace method will never work because the intermediate object on which we are setting values always behaves as a copy.\n",
      "\n",
      "For example, when doing 'df[col].method(value, inplace=True)', try using 'df.method({col: value}, inplace=True)' or df[col] = df[col].method(value) instead, to perform the operation inplace on the original object.\n",
      "\n",
      "\n",
      "  data[col].fillna(data[col].median(), inplace=True)\n",
      "C:\\Users\\Admin.DESKTOP-M4R2VLU\\AppData\\Local\\Temp\\ipykernel_808\\1511396904.py:13: FutureWarning: A value is trying to be set on a copy of a DataFrame or Series through chained assignment using an inplace method.\n",
      "The behavior will change in pandas 3.0. This inplace method will never work because the intermediate object on which we are setting values always behaves as a copy.\n",
      "\n",
      "For example, when doing 'df[col].method(value, inplace=True)', try using 'df.method({col: value}, inplace=True)' or df[col] = df[col].method(value) instead, to perform the operation inplace on the original object.\n",
      "\n",
      "\n",
      "  data[col].fillna(data[col].median(), inplace=True)\n",
      "C:\\Users\\Admin.DESKTOP-M4R2VLU\\AppData\\Local\\Temp\\ipykernel_808\\1511396904.py:13: FutureWarning: A value is trying to be set on a copy of a DataFrame or Series through chained assignment using an inplace method.\n",
      "The behavior will change in pandas 3.0. This inplace method will never work because the intermediate object on which we are setting values always behaves as a copy.\n",
      "\n",
      "For example, when doing 'df[col].method(value, inplace=True)', try using 'df.method({col: value}, inplace=True)' or df[col] = df[col].method(value) instead, to perform the operation inplace on the original object.\n",
      "\n",
      "\n",
      "  data[col].fillna(data[col].median(), inplace=True)\n",
      "C:\\Users\\Admin.DESKTOP-M4R2VLU\\AppData\\Local\\Temp\\ipykernel_808\\1511396904.py:13: FutureWarning: A value is trying to be set on a copy of a DataFrame or Series through chained assignment using an inplace method.\n",
      "The behavior will change in pandas 3.0. This inplace method will never work because the intermediate object on which we are setting values always behaves as a copy.\n",
      "\n",
      "For example, when doing 'df[col].method(value, inplace=True)', try using 'df.method({col: value}, inplace=True)' or df[col] = df[col].method(value) instead, to perform the operation inplace on the original object.\n",
      "\n",
      "\n",
      "  data[col].fillna(data[col].median(), inplace=True)\n",
      "C:\\Users\\Admin.DESKTOP-M4R2VLU\\AppData\\Local\\Temp\\ipykernel_808\\1511396904.py:16: FutureWarning: A value is trying to be set on a copy of a DataFrame or Series through chained assignment using an inplace method.\n",
      "The behavior will change in pandas 3.0. This inplace method will never work because the intermediate object on which we are setting values always behaves as a copy.\n",
      "\n",
      "For example, when doing 'df[col].method(value, inplace=True)', try using 'df.method({col: value}, inplace=True)' or df[col] = df[col].method(value) instead, to perform the operation inplace on the original object.\n",
      "\n",
      "\n",
      "  data['CustomValueEstimate'].fillna(data['CustomValueEstimate'].median(), inplace=True)\n"
     ]
    },
    {
     "name": "stdout",
     "output_type": "stream",
     "text": [
      "UnderwrittenCoverID              0\n",
      "PolicyID                         0\n",
      "TransactionMonth                 0\n",
      "IsVATRegistered                  0\n",
      "Citizenship                      0\n",
      "LegalType                        0\n",
      "Title                            0\n",
      "Language                         0\n",
      "Bank                             0\n",
      "AccountType                      0\n",
      "MaritalStatus                    0\n",
      "Gender                           0\n",
      "Country                          0\n",
      "Province                         0\n",
      "PostalCode                       0\n",
      "MainCrestaZone                   0\n",
      "SubCrestaZone                    0\n",
      "ItemType                         0\n",
      "mmcode                           0\n",
      "VehicleType                      0\n",
      "RegistrationYear                 0\n",
      "make                             0\n",
      "Model                            0\n",
      "Cylinders                        0\n",
      "cubiccapacity                    0\n",
      "kilowatts                        0\n",
      "bodytype                       552\n",
      "NumberOfDoors                    0\n",
      "VehicleIntroDate               552\n",
      "CustomValueEstimate              0\n",
      "AlarmImmobiliser                 0\n",
      "TrackingDevice                   0\n",
      "CapitalOutstanding               2\n",
      "NewVehicle                  153295\n",
      "WrittenOff                  641901\n",
      "Rebuilt                     641901\n",
      "Converted                   641901\n",
      "SumInsured                       0\n",
      "TermFrequency                    0\n",
      "CalculatedPremiumPerTerm         0\n",
      "ExcessSelected                   0\n",
      "CoverCategory                    0\n",
      "CoverType                        0\n",
      "CoverGroup                       0\n",
      "Section                          0\n",
      "Product                          0\n",
      "StatutoryClass                   0\n",
      "StatutoryRiskType                0\n",
      "TotalPremium                     0\n",
      "TotalClaims                      0\n",
      "dtype: int64\n"
     ]
    }
   ],
   "source": [
    "#Fixing the missing values\n",
    "# Drop columns with more than 50% missing values\n",
    "data.drop(columns=['CrossBorder', 'NumberOfVehiclesInFleet'], inplace=True)\n",
    "\n",
    "# Fill missing values for categorical columns with mode\n",
    "categorical_cols = ['Bank', 'AccountType', 'MaritalStatus', 'Gender', 'mmcode', 'VehicleType', 'make', 'Model']\n",
    "for col in categorical_cols:\n",
    "   data[col].fillna(data[col].mode()[0], inplace=True)\n",
    "\n",
    "# Fill missing values for numerical columns with median\n",
    "numerical_cols = ['Cylinders', 'cubiccapacity', 'kilowatts', 'NumberOfDoors']\n",
    "for col in numerical_cols:\n",
    "    data[col].fillna(data[col].median(), inplace=True)\n",
    "\n",
    "# Fill CustomValueEstimate with median\n",
    "data['CustomValueEstimate'].fillna(data['CustomValueEstimate'].median(), inplace=True)\n",
    "\n",
    "# Inspect the DataFrame after handling missing values\n",
    "print(data.isnull().sum())"
   ]
  },
  {
   "cell_type": "code",
   "execution_count": 7,
   "metadata": {},
   "outputs": [
    {
     "name": "stdout",
     "output_type": "stream",
     "text": [
      "ANOVA F-statistic: 157.27016602047263, p-value: 3.8358007302190926e-266\n"
     ]
    }
   ],
   "source": [
    "# Perform ANOVA\n",
    "anova_results = stats.f_oneway(\n",
    "    data[data['Province'] == 'Eastern Cape']['TotalPremium'],\n",
    "    data[data['Province'] == 'Gauteng']['TotalPremium'],\n",
    "    data[data['Province'] == 'Mpumalanga']['TotalPremium'],\n",
    "    data[data['Province'] == 'Free State']['TotalPremium'],\n",
    "    data[data['Province'] == 'KwaZulu-Natal']['TotalPremium'],\n",
    "    data[data['Province'] == 'Limpopo']['TotalPremium'],\n",
    "    data[data['Province'] == 'North West']['TotalPremium'],\n",
    "    data[data['Province'] == 'Northern Cape']['TotalPremium'],\n",
    "    data[data['Province'] == 'Western Cape']['TotalPremium']\n",
    "    \n",
    ")\n",
    "\n",
    "print(f\"ANOVA F-statistic: {anova_results.statistic}, p-value: {anova_results.pvalue}\")"
   ]
  },
  {
   "cell_type": "code",
   "execution_count": 9,
   "metadata": {},
   "outputs": [
    {
     "name": "stdout",
     "output_type": "stream",
     "text": [
      "ANOVA F-statistic: 10.811115758352543, p-value: 0.0\n"
     ]
    }
   ],
   "source": [
    "# Group the data by PostalCode and extract TotalPremiums\n",
    "groups = [group['TotalPremium'].values for name, group in data.groupby('PostalCode')]\n",
    "\n",
    "# Perform ANOVA\n",
    "f_statistic, p_value = stats.f_oneway(*groups)\n",
    "\n",
    "# Output the results\n",
    "print(f\"ANOVA F-statistic: {f_statistic}, p-value: {p_value}\")"
   ]
  },
  {
   "cell_type": "code",
   "execution_count": 10,
   "metadata": {},
   "outputs": [
    {
     "name": "stdout",
     "output_type": "stream",
     "text": [
      "T-statistic for gender: 5.118420932688848, p-value: 3.0925282750010697e-07\n"
     ]
    }
   ],
   "source": [
    "# Risk analysis by gender\n",
    "female_risk = data[data['Gender'] == 'Female']['TotalPremium']\n",
    "male_risk = data[data['Gender'] == 'Male']['TotalPremium']\n",
    "\n",
    "t_stat_gender, p_value_gender = stats.ttest_ind(female_risk, male_risk)\n",
    "print(f\"T-statistic for gender: {t_stat_gender}, p-value: {p_value_gender}\")"
   ]
  }
 ],
 "metadata": {
  "kernelspec": {
   "display_name": "myven",
   "language": "python",
   "name": "python3"
  },
  "language_info": {
   "codemirror_mode": {
    "name": "ipython",
    "version": 3
   },
   "file_extension": ".py",
   "mimetype": "text/x-python",
   "name": "python",
   "nbconvert_exporter": "python",
   "pygments_lexer": "ipython3",
   "version": "3.10.8"
  }
 },
 "nbformat": 4,
 "nbformat_minor": 2
}
