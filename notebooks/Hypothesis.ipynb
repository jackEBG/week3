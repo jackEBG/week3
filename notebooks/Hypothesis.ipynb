{
 "cells": [
  {
   "cell_type": "code",
   "execution_count": 2,
   "metadata": {},
   "outputs": [],
   "source": [
    "import scipy.stats as stats\n",
    "import pandas as pd\n",
    "\n",
    "\n"
   ]
  },
  {
   "cell_type": "code",
   "execution_count": 23,
   "metadata": {},
   "outputs": [
    {
     "name": "stderr",
     "output_type": "stream",
     "text": [
      "C:\\Users\\Admin.DESKTOP-M4R2VLU\\AppData\\Local\\Temp\\ipykernel_17204\\378578876.py:7: DtypeWarning: Columns (32,37) have mixed types. Specify dtype option on import or set low_memory=False.\n",
      "  df = pd.read_csv(file_path, delimiter='|')\n"
     ]
    },
    {
     "name": "stdout",
     "output_type": "stream",
     "text": [
      "Data saved to C:\\Users\\Admin.DESKTOP-M4R2VLU\\week3\\data\\MachineLearning.csv\n",
      "         UnderwrittenCoverID  PolicyID     TransactionMonth  IsVATRegistered  \\\n",
      "1000093                31520       389  2015-04-01 00:00:00            False   \n",
      "1000094                31520       389  2015-06-01 00:00:00            False   \n",
      "1000095                31520       389  2015-08-01 00:00:00            False   \n",
      "1000096                31519       389  2014-07-01 00:00:00            False   \n",
      "1000097                31519       389  2015-02-01 00:00:00            False   \n",
      "\n",
      "        Citizenship   LegalType Title Language       Bank      AccountType  \\\n",
      "1000093          ZW  Individual    Mr  English  ABSA Bank  Savings account   \n",
      "1000094          ZW  Individual    Mr  English  ABSA Bank  Savings account   \n",
      "1000095          ZW  Individual    Mr  English  ABSA Bank  Savings account   \n",
      "1000096          ZW  Individual    Mr  English  ABSA Bank  Savings account   \n",
      "1000097          ZW  Individual    Mr  English  ABSA Bank  Savings account   \n",
      "\n",
      "         ... ExcessSelected        CoverCategory            CoverType  \\\n",
      "1000093  ...      No excess          Third Party          Third Party   \n",
      "1000094  ...      No excess          Third Party          Third Party   \n",
      "1000095  ...      No excess          Third Party          Third Party   \n",
      "1000096  ...      No excess  Passenger Liability  Passenger Liability   \n",
      "1000097  ...      No excess  Passenger Liability  Passenger Liability   \n",
      "\n",
      "                   CoverGroup              Section  \\\n",
      "1000093  Comprehensive - Taxi  Motor Comprehensive   \n",
      "1000094  Comprehensive - Taxi  Motor Comprehensive   \n",
      "1000095  Comprehensive - Taxi  Motor Comprehensive   \n",
      "1000096  Comprehensive - Taxi  Motor Comprehensive   \n",
      "1000097  Comprehensive - Taxi  Motor Comprehensive   \n",
      "\n",
      "                                    Product StatutoryClass StatutoryRiskType  \\\n",
      "1000093  Mobility Commercial Cover: Monthly     Commercial     IFRS Constant   \n",
      "1000094  Mobility Commercial Cover: Monthly     Commercial     IFRS Constant   \n",
      "1000095  Mobility Commercial Cover: Monthly     Commercial     IFRS Constant   \n",
      "1000096  Mobility Commercial Cover: Monthly     Commercial     IFRS Constant   \n",
      "1000097  Mobility Commercial Cover: Monthly     Commercial     IFRS Constant   \n",
      "\n",
      "         TotalPremium TotalClaims  \n",
      "1000093    347.235175         0.0  \n",
      "1000094    347.235175         0.0  \n",
      "1000095    347.235175         0.0  \n",
      "1000096      2.315000         0.0  \n",
      "1000097      2.315000         0.0  \n",
      "\n",
      "[5 rows x 52 columns]\n"
     ]
    }
   ],
   "source": [
    "# readinag given csv file \n",
    "# and creating dataframe \n",
    "# Define the file path\n",
    "file_path = (r\"C:\\Users\\Admin.DESKTOP-M4R2VLU\\week3\\data\\MachineLearning.txt\")\n",
    "\n",
    "# Read the data into a DataFrame\n",
    "df = pd.read_csv(file_path, delimiter='|')\n",
    "\n",
    "# Define the file path for the output CSV file\n",
    "output_file_path = (r\"C:\\Users\\Admin.DESKTOP-M4R2VLU\\week3\\data\\MachineLearning.csv\")\n",
    "\n",
    "# Save the DataFrame to a CSV file\n",
    "df.to_csv(output_file_path, index=False)\n",
    "\n",
    "print(f'Data saved to {output_file_path}')\n",
    "\n",
    "# Display the first few rows of the DataFrame\n",
    "print(df.tail())"
   ]
  },
  {
   "cell_type": "code",
   "execution_count": 24,
   "metadata": {},
   "outputs": [
    {
     "data": {
      "text/plain": [
       "UnderwrittenCoverID           int64\n",
       "PolicyID                      int64\n",
       "TransactionMonth             object\n",
       "IsVATRegistered                bool\n",
       "Citizenship                  object\n",
       "LegalType                    object\n",
       "Title                        object\n",
       "Language                     object\n",
       "Bank                         object\n",
       "AccountType                  object\n",
       "MaritalStatus                object\n",
       "Gender                       object\n",
       "Country                      object\n",
       "Province                     object\n",
       "PostalCode                    int64\n",
       "MainCrestaZone               object\n",
       "SubCrestaZone                object\n",
       "ItemType                     object\n",
       "mmcode                      float64\n",
       "VehicleType                  object\n",
       "RegistrationYear              int64\n",
       "make                         object\n",
       "Model                        object\n",
       "Cylinders                   float64\n",
       "cubiccapacity               float64\n",
       "kilowatts                   float64\n",
       "bodytype                     object\n",
       "NumberOfDoors               float64\n",
       "VehicleIntroDate             object\n",
       "CustomValueEstimate         float64\n",
       "AlarmImmobiliser             object\n",
       "TrackingDevice               object\n",
       "CapitalOutstanding           object\n",
       "NewVehicle                   object\n",
       "WrittenOff                   object\n",
       "Rebuilt                      object\n",
       "Converted                    object\n",
       "CrossBorder                  object\n",
       "NumberOfVehiclesInFleet     float64\n",
       "SumInsured                  float64\n",
       "TermFrequency                object\n",
       "CalculatedPremiumPerTerm    float64\n",
       "ExcessSelected               object\n",
       "CoverCategory                object\n",
       "CoverType                    object\n",
       "CoverGroup                   object\n",
       "Section                      object\n",
       "Product                      object\n",
       "StatutoryClass               object\n",
       "StatutoryRiskType            object\n",
       "TotalPremium                float64\n",
       "TotalClaims                 float64\n",
       "dtype: object"
      ]
     },
     "execution_count": 24,
     "metadata": {},
     "output_type": "execute_result"
    }
   ],
   "source": [
    "df.dtypes"
   ]
  },
  {
   "cell_type": "code",
   "execution_count": 28,
   "metadata": {},
   "outputs": [
    {
     "name": "stderr",
     "output_type": "stream",
     "text": [
      "C:\\Users\\Admin.DESKTOP-M4R2VLU\\AppData\\Local\\Temp\\ipykernel_17204\\3783604159.py:8: FutureWarning: A value is trying to be set on a copy of a DataFrame or Series through chained assignment using an inplace method.\n",
      "The behavior will change in pandas 3.0. This inplace method will never work because the intermediate object on which we are setting values always behaves as a copy.\n",
      "\n",
      "For example, when doing 'df[col].method(value, inplace=True)', try using 'df.method({col: value}, inplace=True)' or df[col] = df[col].method(value) instead, to perform the operation inplace on the original object.\n",
      "\n",
      "\n",
      "  df[col].fillna(df[col].mode()[0], inplace=True)\n",
      "C:\\Users\\Admin.DESKTOP-M4R2VLU\\AppData\\Local\\Temp\\ipykernel_17204\\3783604159.py:13: FutureWarning: A value is trying to be set on a copy of a DataFrame or Series through chained assignment using an inplace method.\n",
      "The behavior will change in pandas 3.0. This inplace method will never work because the intermediate object on which we are setting values always behaves as a copy.\n",
      "\n",
      "For example, when doing 'df[col].method(value, inplace=True)', try using 'df.method({col: value}, inplace=True)' or df[col] = df[col].method(value) instead, to perform the operation inplace on the original object.\n",
      "\n",
      "\n",
      "  df[col].fillna(df[col].median(), inplace=True)\n",
      "C:\\Users\\Admin.DESKTOP-M4R2VLU\\AppData\\Local\\Temp\\ipykernel_17204\\3783604159.py:13: FutureWarning: A value is trying to be set on a copy of a DataFrame or Series through chained assignment using an inplace method.\n",
      "The behavior will change in pandas 3.0. This inplace method will never work because the intermediate object on which we are setting values always behaves as a copy.\n",
      "\n",
      "For example, when doing 'df[col].method(value, inplace=True)', try using 'df.method({col: value}, inplace=True)' or df[col] = df[col].method(value) instead, to perform the operation inplace on the original object.\n",
      "\n",
      "\n",
      "  df[col].fillna(df[col].median(), inplace=True)\n",
      "C:\\Users\\Admin.DESKTOP-M4R2VLU\\AppData\\Local\\Temp\\ipykernel_17204\\3783604159.py:13: FutureWarning: A value is trying to be set on a copy of a DataFrame or Series through chained assignment using an inplace method.\n",
      "The behavior will change in pandas 3.0. This inplace method will never work because the intermediate object on which we are setting values always behaves as a copy.\n",
      "\n",
      "For example, when doing 'df[col].method(value, inplace=True)', try using 'df.method({col: value}, inplace=True)' or df[col] = df[col].method(value) instead, to perform the operation inplace on the original object.\n",
      "\n",
      "\n",
      "  df[col].fillna(df[col].median(), inplace=True)\n",
      "C:\\Users\\Admin.DESKTOP-M4R2VLU\\AppData\\Local\\Temp\\ipykernel_17204\\3783604159.py:13: FutureWarning: A value is trying to be set on a copy of a DataFrame or Series through chained assignment using an inplace method.\n",
      "The behavior will change in pandas 3.0. This inplace method will never work because the intermediate object on which we are setting values always behaves as a copy.\n",
      "\n",
      "For example, when doing 'df[col].method(value, inplace=True)', try using 'df.method({col: value}, inplace=True)' or df[col] = df[col].method(value) instead, to perform the operation inplace on the original object.\n",
      "\n",
      "\n",
      "  df[col].fillna(df[col].median(), inplace=True)\n",
      "C:\\Users\\Admin.DESKTOP-M4R2VLU\\AppData\\Local\\Temp\\ipykernel_17204\\3783604159.py:16: FutureWarning: A value is trying to be set on a copy of a DataFrame or Series through chained assignment using an inplace method.\n",
      "The behavior will change in pandas 3.0. This inplace method will never work because the intermediate object on which we are setting values always behaves as a copy.\n",
      "\n",
      "For example, when doing 'df[col].method(value, inplace=True)', try using 'df.method({col: value}, inplace=True)' or df[col] = df[col].method(value) instead, to perform the operation inplace on the original object.\n",
      "\n",
      "\n",
      "  df['CustomValueEstimate'].fillna(df['CustomValueEstimate'].median(), inplace=True)\n"
     ]
    },
    {
     "name": "stdout",
     "output_type": "stream",
     "text": [
      "UnderwrittenCoverID              0\n",
      "PolicyID                         0\n",
      "TransactionMonth                 0\n",
      "IsVATRegistered                  0\n",
      "Citizenship                      0\n",
      "LegalType                        0\n",
      "Title                            0\n",
      "Language                         0\n",
      "Bank                             0\n",
      "AccountType                      0\n",
      "MaritalStatus                    0\n",
      "Gender                           0\n",
      "Country                          0\n",
      "Province                         0\n",
      "PostalCode                       0\n",
      "MainCrestaZone                   0\n",
      "SubCrestaZone                    0\n",
      "ItemType                         0\n",
      "mmcode                           0\n",
      "VehicleType                      0\n",
      "RegistrationYear                 0\n",
      "make                             0\n",
      "Model                            0\n",
      "Cylinders                        0\n",
      "cubiccapacity                    0\n",
      "kilowatts                        0\n",
      "bodytype                       552\n",
      "NumberOfDoors                    0\n",
      "VehicleIntroDate               552\n",
      "CustomValueEstimate              0\n",
      "AlarmImmobiliser                 0\n",
      "TrackingDevice                   0\n",
      "CapitalOutstanding               2\n",
      "NewVehicle                  153295\n",
      "WrittenOff                  641901\n",
      "Rebuilt                     641901\n",
      "Converted                   641901\n",
      "SumInsured                       0\n",
      "TermFrequency                    0\n",
      "CalculatedPremiumPerTerm         0\n",
      "ExcessSelected                   0\n",
      "CoverCategory                    0\n",
      "CoverType                        0\n",
      "CoverGroup                       0\n",
      "Section                          0\n",
      "Product                          0\n",
      "StatutoryClass                   0\n",
      "StatutoryRiskType                0\n",
      "TotalPremium                     0\n",
      "TotalClaims                      0\n",
      "dtype: int64\n"
     ]
    }
   ],
   "source": [
    "#Fixing the missing values\n",
    "# Drop columns with more than 50% missing values\n",
    "#df.drop(columns=['CrossBorder', 'NumberOfVehiclesInFleet'], inplace=True)\n",
    "df['StatutoryRiskType'] = df['StatutoryRiskType'].fillna(0)\n",
    "# Fill missing values for categorical columns with mode\n",
    "categorical_cols = ['Bank', 'AccountType', 'MaritalStatus', 'Gender', 'mmcode', 'VehicleType', 'make', 'Model']\n",
    "for col in categorical_cols:\n",
    "    df[col].fillna(df[col].mode()[0], inplace=True)\n",
    "\n",
    "# Fill missing values for numerical columns with median\n",
    "numerical_cols = ['Cylinders', 'cubiccapacity', 'kilowatts', 'NumberOfDoors']\n",
    "for col in numerical_cols:\n",
    "    df[col].fillna(df[col].median(), inplace=True)\n",
    "\n",
    "# Fill CustomValueEstimate with median\n",
    "df['CustomValueEstimate'].fillna(df['CustomValueEstimate'].median(), inplace=True)\n",
    "\n",
    "# Inspect the DataFrame after handling missing values\n",
    "print(df.isnull().sum())"
   ]
  },
  {
   "cell_type": "code",
   "execution_count": 32,
   "metadata": {},
   "outputs": [],
   "source": [
    "\n",
    "from scipy import stats\n",
    "\n",
    "# Define Groups based on a feature (e.g., CoverType)\n",
    "group_a = df[df['CoverType'] == 'Comprehensive - Taxi']\n",
    "group_b = df[df['CoverType'] == 'Windscreen']"
   ]
  },
  {
   "cell_type": "code",
   "execution_count": 33,
   "metadata": {},
   "outputs": [
    {
     "name": "stderr",
     "output_type": "stream",
     "text": [
      "C:\\Users\\Admin.DESKTOP-M4R2VLU\\AppData\\Local\\Temp\\ipykernel_17204\\1349890618.py:2: SmallSampleWarning: One or more sample arguments is too small; all returned values will be NaN. See documentation for sample size requirements.\n",
      "  t_stat, p_value = stats.ttest_ind(group_a['TotalPremium'].dropna(), group_b['TotalPremium'].dropna())\n"
     ]
    }
   ],
   "source": [
    "# Perform t-test for Total Premium\n",
    "t_stat, p_value = stats.ttest_ind(group_a['TotalPremium'].dropna(), group_b['TotalPremium'].dropna())"
   ]
  },
  {
   "cell_type": "code",
   "execution_count": 36,
   "metadata": {},
   "outputs": [
    {
     "name": "stdout",
     "output_type": "stream",
     "text": [
      "Findings:\n",
      "The analysis showed a p-value of nan, suggesting no significant effect of the feature on total premium.\n"
     ]
    }
   ],
   "source": [
    "# Reporting Findings\n",
    "print(\"Findings:\")\n",
    "if p_value < 0.05:\n",
    "    print(f\"The analysis showed a p-value of {p_value:.2f}, indicating that the feature significantly affects the total premium collected.\")\n",
    "else:\n",
    "    print(f\"The analysis showed a p-value of {p_value:.2f}, suggesting no significant effect of the feature on total premium.\")\n"
   ]
  },
  {
   "cell_type": "code",
   "execution_count": 37,
   "metadata": {},
   "outputs": [
    {
     "name": "stdout",
     "output_type": "stream",
     "text": [
      "\n",
      "The feature does not significantly impact customer behavior or revenue generation.\n"
     ]
    }
   ],
   "source": [
    "# Business Impact Analysis\n",
    "if p_value < 0.05:\n",
    "    print(\"\\nBusiness Impact:\")\n",
    "    print(\"Enhanced Customer Uptake: The introduction of this feature may appeal to customers seeking added benefits.\")\n",
    "    print(\"Increased Revenue Generation: More customers choosing higher-tier plans can lead to a significant boost in revenue.\")\n",
    "    print(\"Competitive Advantage: This feature can differentiate your offerings in the market.\")\n",
    "    print(\"Customer Satisfaction and Retention: Improved features can result in lower churn rates and increased renewals.\")\n",
    "else:\n",
    "    print(\"\\nThe feature does not significantly impact customer behavior or revenue generation.\")"
   ]
  },
  {
   "cell_type": "code",
   "execution_count": null,
   "metadata": {},
   "outputs": [],
   "source": []
  }
 ],
 "metadata": {
  "kernelspec": {
   "display_name": "myven",
   "language": "python",
   "name": "python3"
  },
  "language_info": {
   "codemirror_mode": {
    "name": "ipython",
    "version": 3
   },
   "file_extension": ".py",
   "mimetype": "text/x-python",
   "name": "python",
   "nbconvert_exporter": "python",
   "pygments_lexer": "ipython3",
   "version": "3.10.8"
  }
 },
 "nbformat": 4,
 "nbformat_minor": 2
}
